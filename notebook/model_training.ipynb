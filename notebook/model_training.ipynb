{
 "cells": [
  {
   "cell_type": "code",
   "execution_count": 1,
   "metadata": {},
   "outputs": [
    {
     "data": {
      "text/plain": [
       "'d:\\\\NASA-Battery-Life-Prediction\\\\notebook'"
      ]
     },
     "execution_count": 1,
     "metadata": {},
     "output_type": "execute_result"
    }
   ],
   "source": [
    "%pwd"
   ]
  },
  {
   "cell_type": "code",
   "execution_count": 2,
   "metadata": {},
   "outputs": [
    {
     "data": {
      "text/plain": [
       "'d:\\\\NASA-Battery-Life-Prediction'"
      ]
     },
     "execution_count": 2,
     "metadata": {},
     "output_type": "execute_result"
    }
   ],
   "source": [
    "import os\n",
    "os.chdir('../')\n",
    "%pwd"
   ]
  },
  {
   "cell_type": "code",
   "execution_count": 20,
   "metadata": {},
   "outputs": [],
   "source": [
    "from dataclasses import dataclass\n",
    "from pathlib import Path\n",
    "\n",
    "@dataclass\n",
    "class ModelTrainerConfig:\n",
    "    root_dir: Path\n",
    "    train_data_path: Path\n",
    "    test_data_path: Path\n",
    "    model_name: str\n",
    "    epochs: int\n",
    "    batch_size: int\n",
    "    optimizer: str\n",
    "    loss: str\n",
    "    validation_split: float\n",
    "    gru_units: int\n",
    "    dropout_rate: float\n",
    "    target_column: str"
   ]
  },
  {
   "cell_type": "code",
   "execution_count": 21,
   "metadata": {},
   "outputs": [],
   "source": [
    "from src.constants import *\n",
    "from src.utils.common import read_yaml, create_directories"
   ]
  },
  {
   "cell_type": "code",
   "execution_count": 22,
   "metadata": {},
   "outputs": [],
   "source": [
    "class ConfigurationManager:\n",
    "    def __init__(\n",
    "        self,\n",
    "        config_filepath = CONFIG_FILE_PATH,\n",
    "        params_filepath = PARAMS_FILE_PATH,\n",
    "        schema_filepath = SCHEMA_FILE_PATH):\n",
    "\n",
    "        self.config = read_yaml(config_filepath)\n",
    "        self.params = read_yaml(params_filepath)\n",
    "        self.schema = read_yaml(schema_filepath)\n",
    "\n",
    "        create_directories([self.config.artifacts_root])\n",
    "\n",
    "    def get_model_trainer_config(self) -> ModelTrainerConfig:\n",
    "        config=self.config.model_trainer\n",
    "        params=self.params.model_trainer\n",
    "        schema=self.schema.TARGET_COLUMN\n",
    "\n",
    "        create_directories([config.root_dir])\n",
    "\n",
    "        model_trainer_config = ModelTrainerConfig(\n",
    "            root_dir=config.root_dir,\n",
    "            train_data_path=config.train_data_path,\n",
    "            test_data_path=config.test_data_path,\n",
    "            model_name=config.model_name,\n",
    "            epochs=params.epochs,\n",
    "            batch_size=params.batch_size,\n",
    "            optimizer=params.optimizer,\n",
    "            loss=params.loss,\n",
    "            validation_split=params.validation_split,\n",
    "            gru_units=params.gru_units,\n",
    "            dropout_rate=params.dropout_rate,\n",
    "            target_column=schema.name\n",
    "        )\n",
    "        return model_trainer_config"
   ]
  },
  {
   "cell_type": "code",
   "execution_count": 32,
   "metadata": {},
   "outputs": [],
   "source": [
    "import os\n",
    "import time\n",
    "import pandas as pd\n",
    "import numpy as np\n",
    "import joblib\n",
    "\n",
    "from tensorflow.keras.models import Sequential\n",
    "from tensorflow.keras.layers import GRU, Dense, Dropout, Input"
   ]
  },
  {
   "cell_type": "code",
   "execution_count": 37,
   "metadata": {},
   "outputs": [],
   "source": [
    "class ModelTrainer:\n",
    "    def __init__(self, config: ModelTrainerConfig):\n",
    "        self.config = config\n",
    "\n",
    "    def train(self):\n",
    "        # Prepare data\n",
    "        train_data = pd.read_csv(self.config.train_data_path)\n",
    "        test_data = pd.read_csv(self.config.test_data_path)\n",
    "\n",
    "        X_train = train_data.drop([self.config.target_column], axis=1).values\n",
    "        X_test = test_data.drop([self.config.target_column], axis=1).values\n",
    "        y_train = train_data[[self.config.target_column]]\n",
    "        y_test = test_data[[self.config.target_column]]\n",
    "        \n",
    "        seq_length = 2\n",
    "        num_features = X_train.shape[1]\n",
    "        # Ensure the total features are divisible by seq_length\n",
    "        if num_features % seq_length != 0:\n",
    "            raise ValueError(f\"Number of features ({num_features}) must be divisible by sequence length ({seq_length}).\")\n",
    "        \n",
    "        reshaped_features = num_features // seq_length\n",
    "        X_train = X_train.reshape(X_train.shape[0], seq_length, reshaped_features)\n",
    "        X_test = X_test.reshape(X_test.shape[0], seq_length, reshaped_features)\n",
    "        \n",
    "        model_GRU = Sequential()\n",
    "        model_GRU.add(Input(shape=(seq_length, reshaped_features)))  # Use Input layer for the first layer\n",
    "        model_GRU.add(GRU(units=20, return_sequences=True))\n",
    "        model_GRU.add(GRU(units=50, activation='relu'))\n",
    "        model_GRU.add(Dense(units=1, activation=None))\n",
    "\n",
    "\n",
    "        # Compile model\n",
    "        model_GRU.compile(\n",
    "            optimizer=self.config.optimizer,\n",
    "            loss=self.config.loss,\n",
    "            metrics=['mae']\n",
    "        )\n",
    "        \n",
    "        history = model_GRU.fit(\n",
    "            X_train, \n",
    "            y_train,\n",
    "            epochs=self.config.epochs,\n",
    "            batch_size=self.config.batch_size,\n",
    "            validation_data=(X_test, y_test),\n",
    "            verbose=1\n",
    "        )\n",
    "\n",
    "        joblib.dump(model_GRU, os.path.join(self.config.root_dir, self.config.model_name))"
   ]
  },
  {
   "cell_type": "code",
   "execution_count": 38,
   "metadata": {},
   "outputs": [
    {
     "name": "stdout",
     "output_type": "stream",
     "text": [
      "[2024-12-27 04:59:17,081: INFO: common: yaml file: config\\config.yaml loaded successfully]\n",
      "[2024-12-27 04:59:17,086: INFO: common: yaml file: params.yaml loaded successfully]\n",
      "[2024-12-27 04:59:17,091: INFO: common: yaml file: schema.yaml loaded successfully]\n",
      "[2024-12-27 04:59:17,094: INFO: common: created directory at: artifacts]\n",
      "[2024-12-27 04:59:17,096: INFO: common: created directory at: artifacts/model_trainer]\n",
      "Epoch 1/20\n",
      "\u001b[1m1135/1135\u001b[0m \u001b[32m━━━━━━━━━━━━━━━━━━━━\u001b[0m\u001b[37m\u001b[0m \u001b[1m11s\u001b[0m 5ms/step - loss: 0.0279 - mae: 0.0975 - val_loss: 0.0072 - val_mae: 0.0469\n",
      "Epoch 2/20\n",
      "\u001b[1m1135/1135\u001b[0m \u001b[32m━━━━━━━━━━━━━━━━━━━━\u001b[0m\u001b[37m\u001b[0m \u001b[1m5s\u001b[0m 4ms/step - loss: 0.0075 - mae: 0.0507 - val_loss: 0.0096 - val_mae: 0.0745\n",
      "Epoch 3/20\n",
      "\u001b[1m1135/1135\u001b[0m \u001b[32m━━━━━━━━━━━━━━━━━━━━\u001b[0m\u001b[37m\u001b[0m \u001b[1m6s\u001b[0m 5ms/step - loss: 0.0070 - mae: 0.0462 - val_loss: 0.0067 - val_mae: 0.0400\n",
      "Epoch 4/20\n",
      "\u001b[1m1135/1135\u001b[0m \u001b[32m━━━━━━━━━━━━━━━━━━━━\u001b[0m\u001b[37m\u001b[0m \u001b[1m11s\u001b[0m 9ms/step - loss: 0.0074 - mae: 0.0476 - val_loss: 0.0069 - val_mae: 0.0395\n",
      "Epoch 5/20\n",
      "\u001b[1m1135/1135\u001b[0m \u001b[32m━━━━━━━━━━━━━━━━━━━━\u001b[0m\u001b[37m\u001b[0m \u001b[1m10s\u001b[0m 9ms/step - loss: 0.0071 - mae: 0.0454 - val_loss: 0.0070 - val_mae: 0.0493\n",
      "Epoch 6/20\n",
      "\u001b[1m1135/1135\u001b[0m \u001b[32m━━━━━━━━━━━━━━━━━━━━\u001b[0m\u001b[37m\u001b[0m \u001b[1m9s\u001b[0m 8ms/step - loss: 0.0067 - mae: 0.0441 - val_loss: 0.0076 - val_mae: 0.0529\n",
      "Epoch 7/20\n",
      "\u001b[1m1135/1135\u001b[0m \u001b[32m━━━━━━━━━━━━━━━━━━━━\u001b[0m\u001b[37m\u001b[0m \u001b[1m7s\u001b[0m 6ms/step - loss: 0.0069 - mae: 0.0463 - val_loss: 0.0067 - val_mae: 0.0373\n",
      "Epoch 8/20\n",
      "\u001b[1m1135/1135\u001b[0m \u001b[32m━━━━━━━━━━━━━━━━━━━━\u001b[0m\u001b[37m\u001b[0m \u001b[1m5s\u001b[0m 4ms/step - loss: 0.0068 - mae: 0.0440 - val_loss: 0.0070 - val_mae: 0.0457\n",
      "Epoch 9/20\n",
      "\u001b[1m1135/1135\u001b[0m \u001b[32m━━━━━━━━━━━━━━━━━━━━\u001b[0m\u001b[37m\u001b[0m \u001b[1m7s\u001b[0m 6ms/step - loss: 0.0064 - mae: 0.0423 - val_loss: 0.0067 - val_mae: 0.0380\n",
      "Epoch 10/20\n",
      "\u001b[1m1135/1135\u001b[0m \u001b[32m━━━━━━━━━━━━━━━━━━━━\u001b[0m\u001b[37m\u001b[0m \u001b[1m7s\u001b[0m 6ms/step - loss: 0.0073 - mae: 0.0449 - val_loss: 0.0067 - val_mae: 0.0375\n",
      "Epoch 11/20\n",
      "\u001b[1m1135/1135\u001b[0m \u001b[32m━━━━━━━━━━━━━━━━━━━━\u001b[0m\u001b[37m\u001b[0m \u001b[1m7s\u001b[0m 6ms/step - loss: 0.0071 - mae: 0.0446 - val_loss: 0.0069 - val_mae: 0.0405\n",
      "Epoch 12/20\n",
      "\u001b[1m1135/1135\u001b[0m \u001b[32m━━━━━━━━━━━━━━━━━━━━\u001b[0m\u001b[37m\u001b[0m \u001b[1m5s\u001b[0m 4ms/step - loss: 0.0069 - mae: 0.0429 - val_loss: 0.0072 - val_mae: 0.0477\n",
      "Epoch 13/20\n",
      "\u001b[1m1135/1135\u001b[0m \u001b[32m━━━━━━━━━━━━━━━━━━━━\u001b[0m\u001b[37m\u001b[0m \u001b[1m5s\u001b[0m 4ms/step - loss: 0.0068 - mae: 0.0434 - val_loss: 0.0067 - val_mae: 0.0395\n",
      "Epoch 14/20\n",
      "\u001b[1m1135/1135\u001b[0m \u001b[32m━━━━━━━━━━━━━━━━━━━━\u001b[0m\u001b[37m\u001b[0m \u001b[1m5s\u001b[0m 5ms/step - loss: 0.0070 - mae: 0.0441 - val_loss: 0.0068 - val_mae: 0.0403\n",
      "Epoch 15/20\n",
      "\u001b[1m1135/1135\u001b[0m \u001b[32m━━━━━━━━━━━━━━━━━━━━\u001b[0m\u001b[37m\u001b[0m \u001b[1m5s\u001b[0m 5ms/step - loss: 0.0065 - mae: 0.0407 - val_loss: 0.0067 - val_mae: 0.0415\n",
      "Epoch 16/20\n",
      "\u001b[1m1135/1135\u001b[0m \u001b[32m━━━━━━━━━━━━━━━━━━━━\u001b[0m\u001b[37m\u001b[0m \u001b[1m5s\u001b[0m 5ms/step - loss: 0.0066 - mae: 0.0419 - val_loss: 0.0068 - val_mae: 0.0413\n",
      "Epoch 17/20\n",
      "\u001b[1m1135/1135\u001b[0m \u001b[32m━━━━━━━━━━━━━━━━━━━━\u001b[0m\u001b[37m\u001b[0m \u001b[1m5s\u001b[0m 4ms/step - loss: 0.0069 - mae: 0.0429 - val_loss: 0.0067 - val_mae: 0.0413\n",
      "Epoch 18/20\n",
      "\u001b[1m1135/1135\u001b[0m \u001b[32m━━━━━━━━━━━━━━━━━━━━\u001b[0m\u001b[37m\u001b[0m \u001b[1m5s\u001b[0m 5ms/step - loss: 0.0062 - mae: 0.0424 - val_loss: 0.0068 - val_mae: 0.0406\n",
      "Epoch 19/20\n",
      "\u001b[1m1135/1135\u001b[0m \u001b[32m━━━━━━━━━━━━━━━━━━━━\u001b[0m\u001b[37m\u001b[0m \u001b[1m6s\u001b[0m 5ms/step - loss: 0.0071 - mae: 0.0434 - val_loss: 0.0068 - val_mae: 0.0398\n",
      "Epoch 20/20\n",
      "\u001b[1m1135/1135\u001b[0m \u001b[32m━━━━━━━━━━━━━━━━━━━━\u001b[0m\u001b[37m\u001b[0m \u001b[1m5s\u001b[0m 5ms/step - loss: 0.0066 - mae: 0.0430 - val_loss: 0.0067 - val_mae: 0.0386\n"
     ]
    }
   ],
   "source": [
    "try:\n",
    "    config = ConfigurationManager()\n",
    "    model_trainer_config = config.get_model_trainer_config()\n",
    "    model_trainer = ModelTrainer(config=model_trainer_config)\n",
    "    model_trainer.train()\n",
    "except Exception as e:\n",
    "    raise e"
   ]
  },
  {
   "cell_type": "code",
   "execution_count": null,
   "metadata": {},
   "outputs": [],
   "source": []
  },
  {
   "cell_type": "code",
   "execution_count": null,
   "metadata": {},
   "outputs": [],
   "source": []
  },
  {
   "cell_type": "code",
   "execution_count": null,
   "metadata": {},
   "outputs": [],
   "source": []
  },
  {
   "cell_type": "code",
   "execution_count": null,
   "metadata": {},
   "outputs": [],
   "source": []
  }
 ],
 "metadata": {
  "kernelspec": {
   "display_name": "Python 3",
   "language": "python",
   "name": "python3"
  },
  "language_info": {
   "codemirror_mode": {
    "name": "ipython",
    "version": 3
   },
   "file_extension": ".py",
   "mimetype": "text/x-python",
   "name": "python",
   "nbconvert_exporter": "python",
   "pygments_lexer": "ipython3",
   "version": "3.12.0"
  }
 },
 "nbformat": 4,
 "nbformat_minor": 2
}
